{
 "cells": [
  {
   "cell_type": "markdown",
   "id": "7a620f13",
   "metadata": {},
   "source": [
    "## 전처리"
   ]
  },
  {
   "cell_type": "markdown",
   "id": "3f2a4818",
   "metadata": {},
   "source": [
    "### 필요 환경 설치 및 확인"
   ]
  },
  {
   "cell_type": "code",
   "execution_count": null,
   "id": "12205494",
   "metadata": {},
   "outputs": [],
   "source": []
  },
  {
   "cell_type": "code",
   "execution_count": null,
   "id": "05947443",
   "metadata": {},
   "outputs": [],
   "source": [
    "#Python ver.확인\n",
    "import sys\n",
    "print(sys.version)"
   ]
  },
  {
   "cell_type": "code",
   "execution_count": null,
   "id": "3fbd8fbe",
   "metadata": {},
   "outputs": [],
   "source": [
    "import platform \n",
    "print(platform.architecture())"
   ]
  },
  {
   "cell_type": "code",
   "execution_count": null,
   "id": "2ffec392",
   "metadata": {},
   "outputs": [],
   "source": [
    "!pip install JPype1-1.4.0-cp39-cp39-win_amd64.whl #JPype1 설치(python, platform ver.에 맞춰서)"
   ]
  },
  {
   "cell_type": "code",
   "execution_count": null,
   "id": "8d69b52a",
   "metadata": {},
   "outputs": [],
   "source": [
    "import os"
   ]
  },
  {
   "cell_type": "code",
   "execution_count": null,
   "id": "cb7c2dd2",
   "metadata": {},
   "outputs": [],
   "source": [
    "print('JAVA_HOME' in os.environ) #True 나와야 함!"
   ]
  },
  {
   "cell_type": "code",
   "execution_count": null,
   "id": "43f388af",
   "metadata": {},
   "outputs": [],
   "source": [
    "from pandas import DataFrame\n",
    "import pandas as pd\n",
    "import numpy as np"
   ]
  },
  {
   "cell_type": "code",
   "execution_count": null,
   "id": "c45d626a",
   "metadata": {},
   "outputs": [],
   "source": [
    "sheet = pd.read_csv(r'우리_크롤링_전처리전.csv', encoding = 'utf-8-sig') #크롤링 완료한 파일 불러오기\n",
    "sheet"
   ]
  },
  {
   "cell_type": "markdown",
   "id": "9f9e995b",
   "metadata": {},
   "source": [
    "### Null 값 확인"
   ]
  },
  {
   "cell_type": "code",
   "execution_count": null,
   "id": "5d0d55f6",
   "metadata": {},
   "outputs": [],
   "source": [
    "#혹시 Null 값을 가진 데이터가 있는지 확인 \n",
    "print(sheet.isnull().sum())"
   ]
  },
  {
   "cell_type": "code",
   "execution_count": null,
   "id": "7e6248b5",
   "metadata": {},
   "outputs": [],
   "source": [
    "#만약 위에서 Null값이 나오면 공백으로 수정\n",
    "sheet['review'] = sheet['review'].fillna('')\n",
    "\n",
    "print(sheet.isnull().values.any()) # 제거되었는지 확인: False 나와야 함!"
   ]
  },
  {
   "cell_type": "code",
   "execution_count": null,
   "id": "9d717fa6",
   "metadata": {},
   "outputs": [],
   "source": []
  },
  {
   "cell_type": "markdown",
   "id": "2d796423",
   "metadata": {},
   "source": [
    "### 중복데이터 확인/제거"
   ]
  },
  {
   "cell_type": "code",
   "execution_count": null,
   "id": "5460d8c2",
   "metadata": {},
   "outputs": [],
   "source": [
    "#중복 데이터 개수 확인\n",
    "sheet['review'].duplicated().sum()"
   ]
  },
  {
   "cell_type": "code",
   "execution_count": null,
   "id": "24ef6703",
   "metadata": {},
   "outputs": [],
   "source": [
    "#먄약 중복 데이터가 있다면 제거\n",
    "sheet = sheet.drop_duplicates(['review'])\n",
    "sheet.reset_index(inplace = True)\n",
    "sheet = sheet.iloc[:,[4]] #review column만 가져오기\n",
    "sheet"
   ]
  },
  {
   "cell_type": "code",
   "execution_count": null,
   "id": "550ecfa0",
   "metadata": {},
   "outputs": [],
   "source": []
  },
  {
   "cell_type": "markdown",
   "id": "e410211e",
   "metadata": {},
   "source": [
    "### 블로그 광고글 삭제 +  직장 & 육아 관련글 삭제"
   ]
  },
  {
   "cell_type": "markdown",
   "id": "ab3f20f9",
   "metadata": {},
   "source": [
    "- **광고글 특징**\n",
    "    - 1> 특정 단어를 포함한 게시글: \"제공받아\", \"제공받았\", \"지원받아\", \"지원받았\", \"해당업체\", \"해시태그\" 등 포함 시 광고글로 볼 수 있음\n",
    "    - 2> 게시글 길이가 3000자 이상이면 광고글 상위 노출 조건에 해당하여 광고글로 볼 수 있음\n",
    "    - 3> 블로그 관련 특정 단어 추가 삭제\n",
    "##### \n",
    "- **직장 & 육아 관련 키워드로 원문 제거**\n",
    "    - 직장인, 직장, 회사, 육아, 남편, 아내, 부인, 와이프... "
   ]
  },
  {
   "cell_type": "code",
   "execution_count": null,
   "id": "ecf36c4f",
   "metadata": {},
   "outputs": [],
   "source": [
    "#광고글 특징을 Stopwords로 지정하여 해당 글은 삭제할 수 있도록 함\n",
    "#Stopwords에 해당 문구가 들어가면 삭제 대상이 되도록 문구를 추가해줌\n",
    "\n",
    "\n",
    "Stopwords = ['소정의','무료제공','아래 링크','플러스친구','제휴마케팅','수수료','파트너스','경품','당첨','작성되었습니다'\n",
    "             '스마트 스토어','쿠팡 파트너스','제품을 제공받고 솔직하게','링크에서 주문가능해요','무상제공',\n",
    "             '쿠팡파트너스','이벤트','대가없이','대가 없이','댓가없이','댓가없이','플러스 친구', '원고료를', '제공받아',\n",
    "             '직장인', '직장', '회사', '육아', '남편', '아내', '부인', '와이프'] # 광고 관련 + 직장 & 육아 관련 키워드 추가"
   ]
  },
  {
   "cell_type": "code",
   "execution_count": null,
   "id": "7b2ceb55",
   "metadata": {},
   "outputs": [],
   "source": [
    "#Stopwords가 들어간 글은 삭제\n",
    "\n",
    "clean_sheet = sheet[~sheet['review'].str.contains('|'.join(Stopwords))]\n",
    "clean_sheet"
   ]
  },
  {
   "cell_type": "code",
   "execution_count": null,
   "id": "0b3704cf",
   "metadata": {},
   "outputs": [],
   "source": [
    "#게시글 길이가 3천 자 이상면 광고글 상위 노출 조건 -> 제거하기\n",
    "ix = clean_sheet['review'].str.len() > 3000\n",
    "clean_sheet_2 = clean_sheet.loc[~ix]\n",
    "clean_sheet_2"
   ]
  },
  {
   "cell_type": "code",
   "execution_count": null,
   "id": "88e2baac",
   "metadata": {},
   "outputs": [],
   "source": [
    "#블로그 관련 특정 '단어' 삭제 (더 추가하셔도 됩니다!)\n",
    "\n",
    "def clean_str(text):\n",
    "    \n",
    "    remove_w = ['복사', '본문 기타 기능', '블로그씨', '블챌', '주간일기', '챌린지', '이웃추가', '공유하기', '신고하기', '본문',\n",
    "                '플레이어 접기', '동영상 좋아요', '님 사진 및 동영상 개 팔로워 명 팔로잉 명 게시물 개', 'Loading...', '접기', '펴기',\n",
    "                '5분 이상', '소요될 수 있으며', '영상의 길이에 따라', '소요 시간은 달라집니다', 'Previous image', 'Next image',\n",
    "                '더보기 /OpenStreetMap지도 데이터x© NAVER Corp. /OpenStreetMap지도 컨트롤러 범례부동산거리읍,면,동시,군,구시,도국가',\n",
    "                'NAVER Corp.', '50m©', '144p', '270p', '360p', '480p', '720p', '1080p', '게시판', '화질 선택 옵션자동', '동영상', \n",
    "                '사진 및 동영상 팔로워 만명 팔로잉 명 게시물 개', '님의 사진 및 동영상 보기', '게시판', '광고정보', 'HD', \n",
    "                '라이센스', 'URL 복사', '지도로 보기', '전체지도', '지도닫기', '레이어 닫기', '도움말 플레이어', '주소복사HTML 소스',\n",
    "                'Band Twitter Facebook Blog Cafe', 'SNS 공유소스 코드', '네이버 지도', '도움말라이센스Video Statistic Version 4.29.4 (HLS)Build Date',\n",
    "                'Flash', '미지원으로', 'Object','코드', '퍼가기', '기능은 더 이상 지원되지않습니다.', '음소거 \\|', '재생 수', 'm NAVER Corp 데이터x NAVER Corp',\n",
    "                'OpenStreetMap지도', '범례부동산거리읍 면 동시 군 구시 도국가', 'www youtube com', '링크', 'smartstore', 'https',\n",
    "                '더보기초 후 SKIP초 후 재생SKIP광고 후 계속됩니다.', '544 x 306740 x 416936 x 5261280 x 720', 'URL', '둘러보기', 'm 데이터x',\n",
    "                'topleft rightbottom마우스를 드래그 하세요360°', '화질', '자동', 'm NAVER Corp', 'OpenStreetMap지도', 'HLS', 'Build Date',\n",
    "                '데이터x NAVER Corp OpenStreetMap지도', '컨트롤러', '범례부동산거리읍 면 동시 군 구시 도국가', 'naver', \n",
    "                'Video도움말', 'MULTI TRACK' , '멀티트랙의', '트랙별', '영상은', '우측 관련영상에서 볼 수 있습니다', '선거광고 안내', 'topleft', 'rightbottom',\n",
    "                'Loading', 'player', 'likesound', 'mutesound', 'volume', 'sound', 'Player', 'Size', '마우스를 드래그 하세요', \n",
    "                'Current Resolution', 'PMax Abr Resolution', 'PProtocol', 'hlsCurrent' 'Bandwidth', 'Average Bandwidth', 'Buffer Health', 'Frame Drop Rate', 'Video Statistic Version',\n",
    "                '인코딩 중입니다', '분 이상 소요될 수 있으며 영상의 길이에 따라 소요 시간은 달라집니다', 'x x', 'hlsCurrent Bandwidth HLS Build Date'\n",
    "                'Video', '음소거', 'p p p p p p 초 후', 'SKIP초 후', '재생SKIP광고 후', '계속됩니다', '주소 HTML', '소스', 'x x x x',\n",
    "                '도움말', 'Video Statistic Version HLS Build Date NAVER Corp', '인코딩|', 'm NAVER Corp 데이터x', 'NAVER Corp', '데이터x', 'm 데이터x'\n",
    "                'Video도움말', '더보기', '전체화면', '서이추환영', '서이추', '서로이웃', '서로이웃환영', '이웃환영', '광고정보',\n",
    "                'Instagram', '사진 및 팔로워 명', '팔로잉 명', '게시물 개', '님의 Instagram', '사진 및 보기', 'www instagram com']\n",
    "    \n",
    "    for i in remove_w:\n",
    "            if i in text:\n",
    "                print(i)\n",
    "                text = text.replace(i, ' ')\n",
    "                \n",
    "    return text"
   ]
  },
  {
   "cell_type": "code",
   "execution_count": null,
   "id": "482040c1",
   "metadata": {},
   "outputs": [],
   "source": [
    "clean_sheet_2['review'] = clean_sheet_2['review'].apply(lambda x : clean_str(x))"
   ]
  },
  {
   "cell_type": "code",
   "execution_count": null,
   "id": "03240484",
   "metadata": {},
   "outputs": [],
   "source": []
  },
  {
   "cell_type": "markdown",
   "id": "aec33cbc",
   "metadata": {},
   "source": [
    "### 정규식-1"
   ]
  },
  {
   "cell_type": "code",
   "execution_count": null,
   "id": "baed154e",
   "metadata": {},
   "outputs": [],
   "source": [
    "import re\n",
    "\n",
    "def extract_word(text) :\n",
    "    hangul = re.compile('[^가-힣a-zA-Z]')\n",
    "    result = hangul.sub(' ', text)\n",
    "    return result"
   ]
  },
  {
   "cell_type": "code",
   "execution_count": null,
   "id": "97f4e6a7",
   "metadata": {},
   "outputs": [],
   "source": [
    "clean_sheet_2['review'] = clean_sheet_2['review'].apply(lambda x : extract_word(x))"
   ]
  },
  {
   "cell_type": "code",
   "execution_count": null,
   "id": "f3a2df89",
   "metadata": {},
   "outputs": [],
   "source": []
  },
  {
   "cell_type": "markdown",
   "id": "cfa9e317",
   "metadata": {},
   "source": [
    "### 정규식-2"
   ]
  },
  {
   "cell_type": "code",
   "execution_count": null,
   "id": "c2a8e439",
   "metadata": {},
   "outputs": [],
   "source": [
    "import re\n",
    "\n",
    "a = re.compile(\"\\S*@\\S+\")\n",
    "b = re.compile(\"#\\S+\")\n",
    "c = re.compile(\"https?://\\S+\")\n",
    "d = re.compile(\"www\\.\\S+\")\n",
    "\n",
    "def cleanse(text):\n",
    "    result = a.sub(\"\", text)\n",
    "    result = b.sub(\"\", result)\n",
    "    result = c.sub(\"\", result)\n",
    "    result = d.sub(\"\", result)\n",
    "    result = result.replace(\"\\u200b\", \"\")\n",
    "    result = result.replace(\"\\n\", \"\")\n",
    "    return result"
   ]
  },
  {
   "cell_type": "code",
   "execution_count": null,
   "id": "bf948a18",
   "metadata": {},
   "outputs": [],
   "source": [
    "clean_sheet_2['review'] = clean_sheet_2['review'].apply(lambda x : cleanse(x))"
   ]
  },
  {
   "cell_type": "code",
   "execution_count": null,
   "id": "08882db1",
   "metadata": {},
   "outputs": [],
   "source": [
    "clean_sheet_2"
   ]
  },
  {
   "cell_type": "code",
   "execution_count": null,
   "id": "be622d47",
   "metadata": {},
   "outputs": [],
   "source": [
    "clean_sheet_2.reset_index(drop=True, inplace = True)"
   ]
  },
  {
   "cell_type": "code",
   "execution_count": null,
   "id": "e3347519",
   "metadata": {},
   "outputs": [],
   "source": []
  },
  {
   "cell_type": "markdown",
   "id": "f638b4c4",
   "metadata": {},
   "source": [
    "### 추가 전처리"
   ]
  },
  {
   "cell_type": "code",
   "execution_count": null,
   "id": "8d757485",
   "metadata": {},
   "outputs": [],
   "source": [
    "corpus = []\n",
    "for i in range(len(clean_sheet_2['review'])):\n",
    "    review = clean_sheet_2['review'][i].lower() #lower case\n",
    "    corpus.append(review)\n",
    "clean_sheet_2['review'] = corpus"
   ]
  },
  {
   "cell_type": "code",
   "execution_count": null,
   "id": "ac850478",
   "metadata": {},
   "outputs": [],
   "source": [
    "clean_sheet_2"
   ]
  },
  {
   "cell_type": "code",
   "execution_count": null,
   "id": "f0573080",
   "metadata": {},
   "outputs": [],
   "source": []
  },
  {
   "cell_type": "markdown",
   "id": "30bdd2ba",
   "metadata": {},
   "source": [
    "### 띄어쓰기 처리"
   ]
  },
  {
   "cell_type": "code",
   "execution_count": null,
   "id": "2411350f",
   "metadata": {},
   "outputs": [],
   "source": [
    "def re_spacing(text):\n",
    "    result = text.strip()\n",
    "    while \"  \" in result:\n",
    "        result = result.replace(\"  \", \" \")\n",
    "    return result"
   ]
  },
  {
   "cell_type": "code",
   "execution_count": null,
   "id": "000adc7c",
   "metadata": {},
   "outputs": [],
   "source": [
    "clean_sheet_2['review'] = clean_sheet_2['review'].apply(lambda x : re_spacing(x))"
   ]
  },
  {
   "cell_type": "code",
   "execution_count": null,
   "id": "b00d55b1",
   "metadata": {},
   "outputs": [],
   "source": [
    "clean_sheet_2\n",
    "clean_sheet_2.reset_index(drop=True)"
   ]
  },
  {
   "cell_type": "code",
   "execution_count": null,
   "id": "3386d8e9",
   "metadata": {},
   "outputs": [],
   "source": []
  },
  {
   "cell_type": "markdown",
   "id": "7d247091",
   "metadata": {},
   "source": [
    "### 전처리 완료 후 Dataframe으로 변환"
   ]
  },
  {
   "cell_type": "code",
   "execution_count": null,
   "id": "c39a4e3c",
   "metadata": {},
   "outputs": [],
   "source": [
    "final_sheet = clean_sheet_2.review\n",
    "final_sheet = final_sheet.reset_index(drop=True)"
   ]
  },
  {
   "cell_type": "code",
   "execution_count": null,
   "id": "aec760b5",
   "metadata": {},
   "outputs": [],
   "source": [
    "final_sheet = pd.DataFrame(final_sheet)"
   ]
  },
  {
   "cell_type": "code",
   "execution_count": null,
   "id": "3c19ac71",
   "metadata": {},
   "outputs": [],
   "source": [
    "final_sheet"
   ]
  },
  {
   "cell_type": "code",
   "execution_count": null,
   "id": "7005c5e0",
   "metadata": {},
   "outputs": [],
   "source": []
  },
  {
   "cell_type": "markdown",
   "id": "05822d30",
   "metadata": {},
   "source": [
    "### CSV 파일로 저장"
   ]
  },
  {
   "cell_type": "code",
   "execution_count": null,
   "id": "3b90414e",
   "metadata": {},
   "outputs": [],
   "source": [
    "final_sheet.to_csv('우리_크롤링_전처리후.csv', encoding = 'utf-8-sig') #파일명 수정(전처리) 필요"
   ]
  }
 ],
 "metadata": {
  "kernelspec": {
   "display_name": "Python 3 (ipykernel)",
   "language": "python",
   "name": "python3"
  },
  "language_info": {
   "codemirror_mode": {
    "name": "ipython",
    "version": 3
   },
   "file_extension": ".py",
   "mimetype": "text/x-python",
   "name": "python",
   "nbconvert_exporter": "python",
   "pygments_lexer": "ipython3",
   "version": "3.9.12"
  }
 },
 "nbformat": 4,
 "nbformat_minor": 5
}
