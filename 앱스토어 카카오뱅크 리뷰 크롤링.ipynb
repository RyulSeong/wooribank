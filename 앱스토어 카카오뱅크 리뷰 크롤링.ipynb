{
 "cells": [
  {
   "cell_type": "code",
   "execution_count": null,
   "id": "a94d1473",
   "metadata": {},
   "outputs": [],
   "source": [
    "pip install app-store-scraper"
   ]
  },
  {
   "cell_type": "code",
   "execution_count": null,
   "id": "0675ab03",
   "metadata": {},
   "outputs": [],
   "source": [
    "# ﻿작업 환경 : Python, Jupyter Notebook\n",
    "# https://blog.naver.com/banker_sim/222880697792\n",
    "\n",
    "# 라이브러리\n",
    "import pandas as pd\n",
    "import numpy as np\n",
    "from app_store_scraper import AppStore\n",
    "\n",
    "# 은행 앱 스토어 리뷰 크롤링\n",
    "review_kabank_apple = AppStore(country = \"kr\",\n",
    "                                app_name = \"id1258016944\", # app_name 대신 app_id 입력 가능\n",
    "                                app_id = \"1258016944\" # optional\n",
    "                               )\n",
    "# print()\n",
    "review_kabank_apple.review(sleep = np.random.randint(0, 3))\n",
    "\n",
    "temp = review_kabank_apple.reviews\n",
    "\n",
    "# 데이터프레임 변환\n",
    "df_review_kabank_apple = pd.DataFrame(temp)\n",
    "df_review_kabank_apple.head(1)"
   ]
  },
  {
   "cell_type": "code",
   "execution_count": null,
   "id": "09edd27c",
   "metadata": {},
   "outputs": [],
   "source": [
    "df_review_kabank_apple = pd.DataFrame(temp)"
   ]
  },
  {
   "cell_type": "code",
   "execution_count": null,
   "id": "0edc7df6",
   "metadata": {},
   "outputs": [],
   "source": [
    "df_review_kabank_apple.to_csv(\"카뱅_앱스토어.csv\", encoding = 'utf-8-sig') # csv 파일로 저장"
   ]
  },
  {
   "cell_type": "code",
   "execution_count": null,
   "id": "580d1e50",
   "metadata": {},
   "outputs": [],
   "source": [
    "df_review_kabank_apple"
   ]
  }
 ],
 "metadata": {
  "kernelspec": {
   "display_name": "Python 3 (ipykernel)",
   "language": "python",
   "name": "python3"
  },
  "language_info": {
   "codemirror_mode": {
    "name": "ipython",
    "version": 3
   },
   "file_extension": ".py",
   "mimetype": "text/x-python",
   "name": "python",
   "nbconvert_exporter": "python",
   "pygments_lexer": "ipython3",
   "version": "3.9.12"
  }
 },
 "nbformat": 4,
 "nbformat_minor": 5
}
