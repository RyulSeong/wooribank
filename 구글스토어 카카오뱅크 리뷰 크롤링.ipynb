{
 "cells": [
  {
   "cell_type": "code",
   "execution_count": null,
   "id": "e5aeab2f",
   "metadata": {},
   "outputs": [],
   "source": [
    "from selenium import webdriver\n",
    "import time\n",
    "from bs4 import BeautifulSoup as bs\n",
    "import csv \n",
    "import requests\n",
    "import pandas as pd\n",
    "import re\n",
    "from selenium.webdriver.common.desired_capabilities import DesiredCapabilities\n",
    "from selenium.common.exceptions import UnexpectedAlertPresentException\n",
    "import urllib.request\n",
    "import random\n",
    "from tqdm import tqdm\n",
    "\n",
    "from selenium.webdriver.common.by import By #python ver.3.7 이상일 경우 추가 필요"
   ]
  },
  {
   "cell_type": "code",
   "execution_count": null,
   "id": "373fa31b",
   "metadata": {},
   "outputs": [],
   "source": [
    "driver = webdriver.Chrome('./chromedriver.exe')\n",
    "\n",
    "# url : 원하는 어플 url 주소로 바꿔주면 됩니당\n",
    "url = 'https://play.google.com/store/apps/details?id=com.kakaobank.channel&hl=ko&gl=US'\n",
    "\n",
    "driver.get(url)\n",
    "\n",
    "time.sleep(5)"
   ]
  },
  {
   "cell_type": "code",
   "execution_count": null,
   "id": "63c6f4c1",
   "metadata": {},
   "outputs": [],
   "source": []
  },
  {
   "cell_type": "markdown",
   "id": "31d53eec",
   "metadata": {},
   "source": [
    "### 리뷰 더보기 창 들어가기"
   ]
  },
  {
   "cell_type": "code",
   "execution_count": null,
   "id": "d6881f5a",
   "metadata": {},
   "outputs": [],
   "source": [
    "driver.find_element(By.XPATH,r'//*[@id=\"yDmH0d\"]/c-wiz[2]/div/div/div[1]/div[2]/div/div[1]/c-wiz[4]/section/header/div/div[2]/button').click() #python ver.3.7 이상: driver.find_element(By.XPATH,"
   ]
  },
  {
   "cell_type": "code",
   "execution_count": null,
   "id": "299f055f",
   "metadata": {},
   "outputs": [],
   "source": [
    "all_review_button_xpath = '/html/body/c-wiz[2]/div/div/div[1]/div[2]/div/div[1]/c-wiz[4]/section/div/div/div[5]/div/div/button/span'\n",
    "# '리뷰 모두 보기' 버튼 클릭\n",
    "driver.find_element(By.XPATH,all_review_button_xpath).click()"
   ]
  },
  {
   "cell_type": "code",
   "execution_count": null,
   "id": "3f6125d4",
   "metadata": {},
   "outputs": [],
   "source": [
    "while True:        \n",
    "    driver.execute_script(\"window.scrollTo(0, document.body.scrollHeight);\")\n",
    "    time.sleep(random.uniform(1,1.7))\n",
    "    new_height = driver.execute_script(\"return document.body.scrollHeight\")\n",
    "    if new_height == last_height:   \n",
    "        break\n",
    "\n",
    "    last_height = new_height\n",
    "\n",
    "driver.execute_script(\"window.scrollTo(0, 0)\")"
   ]
  },
  {
   "cell_type": "code",
   "execution_count": null,
   "id": "1dc9ee3c",
   "metadata": {},
   "outputs": [],
   "source": [
    "last_height = driver.execute_script(\"return document.body.scrollHeight\") \n",
    "\n",
    "while True:\n",
    "    driver.execute_script(\"window.scrollTo(0, document.body.scrollHeight);\")\n",
    "    \n",
    "    time.sleep(random.uniform(1,1.7))\n",
    "    \n",
    "    new_height = driver.execute_script(\"return document.body.scrollHeight\")\n",
    "    \n",
    "    if new_height == last_height:\n",
    "        break\n",
    "        \n",
    "    last_height = new_height"
   ]
  },
  {
   "cell_type": "code",
   "execution_count": null,
   "id": "2dc0a9e0",
   "metadata": {},
   "outputs": [],
   "source": [
    "scroll_location = driver.execute_script(\"return document.body.scrollHeight\")"
   ]
  },
  {
   "cell_type": "code",
   "execution_count": null,
   "id": "8c4317ef",
   "metadata": {},
   "outputs": [],
   "source": [
    "driver.execute_script(\"window.scrollTo(0,document.body.scrollHeight)\")\n",
    "scroll_height = driver.execute_script(\"return document.body.scrollHeight\")\n",
    "scroll_height"
   ]
  },
  {
   "cell_type": "code",
   "execution_count": null,
   "id": "2c335ac1",
   "metadata": {},
   "outputs": [],
   "source": [
    "#스크롤 내리기 이동 전 위치\n",
    "scroll_location = driver.execute_script(\"return document.body.scrollHeight\")\n",
    "\n",
    "while True:\n",
    "\t#현재 스크롤의 가장 아래로 내림\n",
    "    driver.execute_script(\"window.scrollTo(0,document.body.scrollHeight)\")\n",
    "       \n",
    "    #전체 스크롤이 늘어날 때까지 대기\n",
    "    time.sleep(2)\n",
    "    \n",
    "    #늘어난 스크롤 높이\n",
    "    scroll_height = driver.execute_script(\"return document.body.scrollHeight\")\n",
    "\n",
    "    #늘어난 스크롤 위치와 이동 전 위치 같으면(더 이상 스크롤이 늘어나지 않으면) 종료\n",
    "    if scroll_location == scroll_height:\n",
    "    \tbreak\n",
    "\t    \n",
    "    #같지 않으면 스크롤 위치 값을 수정하여 같아질 때까지 반복\n",
    "    else:\n",
    "    \t#스크롤 위치값을 수정\n",
    "    \tscroll_location = driver.execute_script(\"return document.body.scrollHeight\")"
   ]
  },
  {
   "cell_type": "code",
   "execution_count": null,
   "id": "a60de530",
   "metadata": {},
   "outputs": [],
   "source": [
    "def scroll(modal):\n",
    "    try:        \n",
    "        # 스크롤 높이 받아오기\n",
    "        last_height = driver.execute_script(\"return arguments[0].scrollHeight\", modal)\n",
    "        while True:\n",
    "            pause_time = random.uniform(0.5, 0.8)\n",
    "            # 최하단까지 스크롤\n",
    "            driver.execute_script(\"arguments[0].scrollTo(0, arguments[0].scrollHeight);\", modal)\n",
    "            # 페이지 로딩 대기\n",
    "            time.sleep(pause_time)\n",
    "            # 무한 스크롤 동작을 위해 살짝 위로 스크롤\n",
    "            driver.execute_script(\"arguments[0].scrollTo(0, arguments[0].scrollHeight-50);\", modal)\n",
    "            time.sleep(pause_time)\n",
    "            # 스크롤 높이 새롭게 받아오기\n",
    "            new_height = driver.execute_script(\"return arguments[0].scrollHeight\", modal)\n",
    "            try:\n",
    "                # '더보기' 버튼 있을 경우 클릭\n",
    "                all_review_button = driver.find_element_by_xpath('/html/body/div[1]/div[4]/c-wiz/div/div[2]/div/div/main/div/div[1]/div[2]/div[2]/div/span/span').click()\n",
    "            except:\n",
    "                # 스크롤 완료 경우\n",
    "                if new_height == last_height:\n",
    "                    print(\"스크롤 완료\")\n",
    "                    break\n",
    "                last_height = new_height\n",
    "                \n",
    "    except Exception as e:\n",
    "        print(\"에러 발생: \", e)"
   ]
  },
  {
   "cell_type": "code",
   "execution_count": null,
   "id": "05fe7735",
   "metadata": {},
   "outputs": [],
   "source": [
    "#크롤링 관련 코드\n",
    "soup = bs(driver.page_source, 'lxml')\n",
    "\n",
    "date_list = []\n",
    "name_list = []\n",
    "star_list = []\n",
    "review_list = []\n",
    "like_list = []"
   ]
  },
  {
   "cell_type": "code",
   "execution_count": null,
   "id": "31ef7a54",
   "metadata": {},
   "outputs": [],
   "source": [
    "#이름 크롤링\n",
    "names = soup.find_all('div', class_='X5PpBb')\n",
    "\n",
    "for name in names:\n",
    "    name_list.append(name.text)\n",
    "name_list"
   ]
  },
  {
   "cell_type": "code",
   "execution_count": null,
   "id": "9f115ca4",
   "metadata": {},
   "outputs": [],
   "source": [
    "#날짜 크롤링\n",
    "dates = soup.find_all('span', class_='bp9Aid')\n",
    "\n",
    "for date in dates:\n",
    "    date_list.append(date.text)\n",
    "date_list"
   ]
  },
  {
   "cell_type": "code",
   "execution_count": null,
   "id": "19e60527",
   "metadata": {},
   "outputs": [],
   "source": [
    "#별점 크롤링\n",
    "stars = soup.find_all('div', class_='iXRFPc')\n",
    "\n",
    "for star in stars:\n",
    "    z = re.findall(r'\\d{1}개{1}', str(star))\n",
    "    z = int(z[1][0]) \n",
    "    star_list.append(z)\n",
    "star_list"
   ]
  },
  {
   "cell_type": "code",
   "execution_count": null,
   "id": "c564ee5b",
   "metadata": {},
   "outputs": [],
   "source": [
    "# 댓글 크롤링\n",
    "reviews = soup.find_all('div', class_='h3YV2d')\n",
    "\n",
    "for review in reviews:\n",
    "    review_list.append(review.text)\n",
    "review_list"
   ]
  },
  {
   "cell_type": "code",
   "execution_count": null,
   "id": "240c37a0",
   "metadata": {},
   "outputs": [],
   "source": [
    "name_list = pd.DataFrame(name_list)\n",
    "date_list = pd.DataFrame(date_list)\n",
    "star_list = pd.DataFrame(star_list)\n",
    "review_list = pd.DataFrame(review_list)\n",
    "df = pd.concat([date_list, star_list, review_list], axis = 1)\n",
    "\n",
    "\n",
    "df.columns = ['Date', 'Star', 'Review']\n",
    "\n",
    "# useless = df[df['Name'] == 'KakaoBank Corp.'].index # 어플 관리자 답변 리뷰 삭제\n",
    "# df = df.drop(useless)\n",
    "# df = df.reset_index(drop=True)"
   ]
  },
  {
   "cell_type": "code",
   "execution_count": null,
   "id": "0b185196",
   "metadata": {},
   "outputs": [],
   "source": [
    "df"
   ]
  }
 ],
 "metadata": {
  "kernelspec": {
   "display_name": "Python 3 (ipykernel)",
   "language": "python",
   "name": "python3"
  },
  "language_info": {
   "codemirror_mode": {
    "name": "ipython",
    "version": 3
   },
   "file_extension": ".py",
   "mimetype": "text/x-python",
   "name": "python",
   "nbconvert_exporter": "python",
   "pygments_lexer": "ipython3",
   "version": "3.9.12"
  }
 },
 "nbformat": 4,
 "nbformat_minor": 5
}
